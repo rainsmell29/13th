{
  "nbformat": 4,
  "nbformat_minor": 0,
  "metadata": {
    "colab": {
      "provenance": []
    },
    "kernelspec": {
      "name": "python3",
      "display_name": "Python 3"
    },
    "language_info": {
      "name": "python"
    }
  },
  "cells": [
    {
      "cell_type": "markdown",
      "source": [
        "Python 내장함수(Built-in Functions) 들 중에서 아래의 5개 함수의 사용법을 익혀볼까요?\n",
        "all( )\n",
        "any( )\n",
        "enumerate( )\n",
        "iter( )\n",
        "zip( )"
      ],
      "metadata": {
        "id": "lsDuVaV8Hm-Z"
      }
    },
    {
      "cell_type": "markdown",
      "source": [
        "\n",
        "all() 함수는 Python의 내장 함수로, 주어진 iterable(리스트, 튜플, 집합 등) 내의 모든 요소가 참(True)인지 확인.\n",
        " all() 함수는 iterable 안에 있는 모든 요소가 참일 때 True를 반환하고, 하나라도 거짓(False)이면 False를 반환.\n",
        " 비어 있는 iterable을 인자로 받으면 True를 반환.\n",
        "True: 모든 요소가 참(True)이거나 iterable이 비어 있을 때.\n",
        "False: 하나 이상의 요소가 거짓(False)일 때."
      ],
      "metadata": {
        "id": "UuZ1Q58aIWc-"
      }
    },
    {
      "cell_type": "markdown",
      "source": [
        "all() 함수는 논리 연산을 통해 여러 조건이 모두 만족하는지 확인할 때 유용하게 사용됩니다. 특히, 리스트 내포(list comprehension)와 함께 사용하면 조건을 보다 간결하게 검사할 수 있습니다."
      ],
      "metadata": {
        "id": "f1shW2pZI-cu"
      }
    },
    {
      "cell_type": "code",
      "source": [
        "print(all([2,4,6,8]))"
      ],
      "metadata": {
        "colab": {
          "base_uri": "https://localhost:8080/"
        },
        "id": "7EQHzXMiHmKx",
        "outputId": "0907b7aa-6e72-4a11-af84-23d8126c0d6e"
      },
      "execution_count": 4,
      "outputs": [
        {
          "output_type": "stream",
          "name": "stdout",
          "text": [
            "True\n"
          ]
        }
      ]
    },
    {
      "cell_type": "code",
      "execution_count": 5,
      "metadata": {
        "colab": {
          "base_uri": "https://localhost:8080/"
        },
        "id": "muuUYhs3HdYd",
        "outputId": "360a54f8-53ec-42d9-c75c-9f2074bf4cac"
      },
      "outputs": [
        {
          "output_type": "stream",
          "name": "stdout",
          "text": [
            "True\n"
          ]
        }
      ],
      "source": [
        "print(all([1,4,2,3]))"
      ]
    },
    {
      "cell_type": "code",
      "source": [
        "print(all([0,2,4,6]))"
      ],
      "metadata": {
        "colab": {
          "base_uri": "https://localhost:8080/"
        },
        "id": "ezXhzmE3JzkB",
        "outputId": "c607e9d8-a65f-4824-a0dd-1923818a4b36"
      },
      "execution_count": 6,
      "outputs": [
        {
          "output_type": "stream",
          "name": "stdout",
          "text": [
            "False\n"
          ]
        }
      ]
    },
    {
      "cell_type": "code",
      "source": [
        "numbers = []\n",
        "while len(numbers)<5:\n",
        "    num_ = int(input(\"수를 입력해주세요: \"))\n",
        "    numbers.append(num_)\n",
        "b = all(a>0for a in numbers)\n",
        "if b:\n",
        "    print(\"해당 수들은 전부 양수입니다.\")\n",
        "else:\n",
        "    print(\"해당 수 중 0 혹은 음수가 있습니다.\")"
      ],
      "metadata": {
        "colab": {
          "base_uri": "https://localhost:8080/"
        },
        "id": "v0GhMkOUJ5JM",
        "outputId": "6ecce4d3-71b6-4c68-ea5b-2dc44ef1035d"
      },
      "execution_count": 11,
      "outputs": [
        {
          "output_type": "stream",
          "name": "stdout",
          "text": [
            "수를 입력해주세요: 0\n",
            "수를 입력해주세요: 1\n",
            "수를 입력해주세요: 2\n",
            "수를 입력해주세요: 3\n",
            "수를 입력해주세요: 4\n",
            "해당 중 0 혹은 음수가 있습니다.\n"
          ]
        }
      ]
    },
    {
      "cell_type": "markdown",
      "source": [
        "any() 함수는 Python의 내장 함수로, 주어진 iterable(리스트, 튜플, 집합 등) 내의 하나 이상의 요소가 참(True)인지 확인합니다. any() 함수는 iterable 안에 하나라도 참인 요소가 있으면 True를 반환하고, 모든 요소가 거짓(False)일 때만 False를 반환합니다. 비어 있는 iterable을 인자로 받으면 False를 반환합니다."
      ],
      "metadata": {
        "id": "t5z4mxqgMVqI"
      }
    },
    {
      "cell_type": "code",
      "source": [
        "# 하나 이상의 요소가 참인 경우\n",
        "print(any([0, 1, 2, 3]))  # True\n",
        "\n",
        "# 모든 요소가 거짓인 경우\n",
        "print(any([0, 0, 0, 0]))  # False\n",
        "\n",
        "# 빈 리스트\n",
        "print(any([]))  # False\n",
        "\n",
        "# 문자열은 빈 문자열이 아니면 참\n",
        "print(any(['', 'banana', '']))  # True\n",
        "\n",
        "# 문자열 중 하나도 빈 문자열이 아닌 경우\n",
        "print(any(['apple', 'banana', 'cherry']))  # True\n",
        "\n",
        "# 모두 빈 문자열인 경우\n",
        "print(any(['', '', '']))  # False"
      ],
      "metadata": {
        "colab": {
          "base_uri": "https://localhost:8080/"
        },
        "id": "GlWE-psAKh7b",
        "outputId": "bde7aed8-919d-4de9-aa01-03244bbc1055"
      },
      "execution_count": 12,
      "outputs": [
        {
          "output_type": "stream",
          "name": "stdout",
          "text": [
            "True\n",
            "False\n",
            "False\n",
            "True\n",
            "True\n",
            "False\n"
          ]
        }
      ]
    },
    {
      "cell_type": "code",
      "source": [
        "numbers=[2,4,2,4,4]\n",
        "print(any(n%2==0 for n in numbers))"
      ],
      "metadata": {
        "colab": {
          "base_uri": "https://localhost:8080/"
        },
        "id": "thC5BgLTMn3s",
        "outputId": "e4a340ed-46cb-4399-fb16-6382acf695eb"
      },
      "execution_count": 14,
      "outputs": [
        {
          "output_type": "stream",
          "name": "stdout",
          "text": [
            "True\n"
          ]
        }
      ]
    },
    {
      "cell_type": "code",
      "source": [
        "numbers=[2,4,2,4,3]\n",
        "if any(n%2==0 for n in numbers)==True:\n",
        "    print(\"해당 그룹에는 남성이 없습니다.\")\n",
        "else:\n",
        "    print(\"해당 그룹에는 남성이 있습니다.\")"
      ],
      "metadata": {
        "colab": {
          "base_uri": "https://localhost:8080/"
        },
        "id": "juZDMXFuNO3a",
        "outputId": "766e33b1-1718-4f18-cd9b-33c050aaa29e"
      },
      "execution_count": 16,
      "outputs": [
        {
          "output_type": "stream",
          "name": "stdout",
          "text": [
            "해당 그룹에는 남성이 없습니다.\n"
          ]
        }
      ]
    },
    {
      "cell_type": "markdown",
      "source": [
        "enumerate() 함수는 Python의 내장 함수로, 주어진 iterable(리스트, 튜플, 문자열 등)의 요소를 순회하면서 해당 요소의 인덱스(index)와 값을 함께 반환합니다. 이를 통해 인덱스와 값을 동시에 사용할 수 있습니다.\n"
      ],
      "metadata": {
        "id": "77elhP44N1CJ"
      }
    },
    {
      "cell_type": "code",
      "source": [
        "# 인덱스의 시작값을 변경하여 순회하기\n",
        "fruits = ['apple', 'banana', 'cherry']\n",
        "for index, fruit in enumerate(fruits, start=1):\n",
        "    print(index, fruit)\n",
        "\n",
        "# 출력 결과:\n",
        "# 1 apple\n",
        "# 2 banana\n",
        "# 3 cherry"
      ],
      "metadata": {
        "colab": {
          "base_uri": "https://localhost:8080/"
        },
        "id": "adlh5kKSNljf",
        "outputId": "c253c74e-1b4a-46dc-e0a8-40a78d69ef70"
      },
      "execution_count": 17,
      "outputs": [
        {
          "output_type": "stream",
          "name": "stdout",
          "text": [
            "1 apple\n",
            "2 banana\n",
            "3 cherry\n"
          ]
        }
      ]
    },
    {
      "cell_type": "code",
      "source": [
        "names = []\n",
        "while len(names)<5:\n",
        "    num_ = input(\"성함을 입력해주세요: \")\n",
        "    names.append(num_)\n",
        "for index,name in enumerate(names,start=1):\n",
        "    print(index, name)"
      ],
      "metadata": {
        "colab": {
          "base_uri": "https://localhost:8080/"
        },
        "id": "fy4oKR_8N8L1",
        "outputId": "5a6b524f-d01c-4066-ca74-ec87deefaa02"
      },
      "execution_count": 23,
      "outputs": [
        {
          "output_type": "stream",
          "name": "stdout",
          "text": [
            "성함을 입력해주세요: 해리\n",
            "성함을 입력해주세요: 론\n",
            "성함을 입력해주세요: 헤르미온느\n",
            "성함을 입력해주세요: 네빌\n",
            "성함을 입력해주세요: 말포이\n",
            "1 해리\n",
            "2 론\n",
            "3 헤르미온느\n",
            "4 네빌\n",
            "5 말포이\n"
          ]
        }
      ]
    },
    {
      "cell_type": "markdown",
      "source": [
        "iter() 함수는 Python의 내장 함수로, 주어진 객체의 이터레이터(iterator)를 반환합니다. 이터레이터는 순회 가능한(iterable) 객체의 요소를 하나씩 차례대로 반환하는 객체입니다. iter() 함수는 보통 for 루프와 함께 사용되며, 사용자 정의 클래스에서 이터레이터를 만들 때 유용하게 활용됩니다.로"
      ],
      "metadata": {
        "id": "gqTqRYJkPF4A"
      }
    },
    {
      "cell_type": "markdown",
      "source": [
        "iter() 함수는 주로 사용자 정의 클래스에서 이터레이터를 만들 때 사용됩니다. 클래스 내에 __iter__() 메서드와 __next__() 메서드를 정의하여 이터레이터 객체를 반환하고 요소를 차례대로 반환할 수 있습니다. 일반적으로 __iter__() 메서드는 self를 반환하고, __next__() 메서드는 반복할 값을 반환하고, 반복이 끝날 때는 StopIteration 예외를 발생시킵니다."
      ],
      "metadata": {
        "id": "8kB9ZvaHPdTC"
      }
    },
    {
      "cell_type": "code",
      "source": [
        "# 리스트를 이터레이터로 변환하여 순회하기\n",
        "my_list = [1, 2, 3, 4, 5]\n",
        "my_iter = iter(my_list)\n",
        "\n",
        "print(next(my_iter))  # 1\n",
        "print(next(my_iter))  # 2\n",
        "print(next(my_iter))  # 3"
      ],
      "metadata": {
        "colab": {
          "base_uri": "https://localhost:8080/"
        },
        "id": "pl7nxVQ3OkNQ",
        "outputId": "7b555900-3fac-43ba-cf1e-b0a1cbf10961"
      },
      "execution_count": 21,
      "outputs": [
        {
          "output_type": "stream",
          "name": "stdout",
          "text": [
            "1\n",
            "2\n",
            "3\n"
          ]
        }
      ]
    },
    {
      "cell_type": "code",
      "source": [
        "names_2 = []\n",
        "while len(names_2)<4:\n",
        "    num_2 = input(\"성함을 입력해주세요: \")\n",
        "    names_2.append(num_2)\n",
        "my_names_2=iter(names_2)\n",
        "print(next(my_names_2))\n",
        "try:\n",
        "    while True:\n",
        "        no=input(\"다음 출력을 원하신다면 Enter key를 입력해주세요. 멈추시길 원하신다면 아무거나 입력해주세요.\")\n",
        "        if no==\"\":\n",
        "            print(next(my_names_2))\n",
        "        else:\n",
        "            break\n",
        "except StopIteration:\n",
        "    print(\"모든 이름을 출력했습니다.\")"
      ],
      "metadata": {
        "colab": {
          "base_uri": "https://localhost:8080/"
        },
        "id": "Cn7_N4HRPTV2",
        "outputId": "2e300d9d-3454-46dc-e2c9-132f902905fb"
      },
      "execution_count": 29,
      "outputs": [
        {
          "output_type": "stream",
          "name": "stdout",
          "text": [
            "성함을 입력해주세요: 방탄\n",
            "성함을 입력해주세요: 투어스\n",
            "성함을 입력해주세요: 세븐틴\n",
            "성함을 입력해주세요: 엔하이픈\n",
            "방탄\n",
            "다음 출력을 원하신다면 Enter key를 입력해주세요. 멈추시길 원하신다면 아무거나 입력해주세요.\n",
            "투어스\n",
            "다음 출력을 원하신다면 Enter key를 입력해주세요. 멈추시길 원하신다면 아무거나 입력해주세요.\n",
            "세븐틴\n",
            "다음 출력을 원하신다면 Enter key를 입력해주세요. 멈추시길 원하신다면 아무거나 입력해주세요.\n",
            "엔하이픈\n",
            "다음 출력을 원하신다면 Enter key를 입력해주세요. 멈추시길 원하신다면 아무거나 입력해주세요.\n",
            "모든 이름을 출력했습니다.\n"
          ]
        }
      ]
    },
    {
      "cell_type": "markdown",
      "source": [
        "zip() 함수는 Python의 내장 함수로, 여러 개의 iterable(리스트, 튜플 등)을 인자로 받아 각 iterable에서 같은 인덱스에 위치한 요소들을 묶어서 튜플의 형태로 반환합니다. 이때, 가장 짧은 iterable이 모두 소비될 때까지만 요소를 묶습니다."
      ],
      "metadata": {
        "id": "hGSCXbIOTyG_"
      }
    },
    {
      "cell_type": "code",
      "source": [
        "numbers = [1, 2, 3]\n",
        "letters = ['a', 'b', 'c']\n",
        "zipped = zip(numbers, letters)\n",
        "print(list(zipped))  # [(1, 'a'), (2, 'b'), (3, 'c')]"
      ],
      "metadata": {
        "colab": {
          "base_uri": "https://localhost:8080/"
        },
        "id": "B5WO1OwsQYfX",
        "outputId": "fe16274d-6adc-431e-839f-3434f61857c9"
      },
      "execution_count": 30,
      "outputs": [
        {
          "output_type": "stream",
          "name": "stdout",
          "text": [
            "[(1, 'a'), (2, 'b'), (3, 'c')]\n"
          ]
        }
      ]
    },
    {
      "cell_type": "code",
      "source": [
        "names_3=['아로','쉘비','프응']\n",
        "age=[4,9,1]\n",
        "animal=['cat','dog','bee']\n",
        "zipped_2=zip(names_3,age,animal)\n",
        "print(list(zipped_2))"
      ],
      "metadata": {
        "colab": {
          "base_uri": "https://localhost:8080/"
        },
        "id": "Rn3NnazeT53G",
        "outputId": "9504e273-3453-4a39-9f5c-44cef0c0bdac"
      },
      "execution_count": 33,
      "outputs": [
        {
          "output_type": "stream",
          "name": "stdout",
          "text": [
            "[('아로', 4, 'cat'), ('쉘비', 9, 'dog'), ('프응', 1, 'bee')]\n"
          ]
        }
      ]
    },
    {
      "cell_type": "code",
      "source": [],
      "metadata": {
        "id": "8P00fnBtU2Cz"
      },
      "execution_count": null,
      "outputs": []
    }
  ]
}